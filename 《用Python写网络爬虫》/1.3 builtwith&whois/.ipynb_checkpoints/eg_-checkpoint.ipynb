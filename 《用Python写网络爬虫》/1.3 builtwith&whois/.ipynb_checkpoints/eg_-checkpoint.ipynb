{
 "cells": [
  {
   "cell_type": "markdown",
   "metadata": {},
   "source": [
    "### Builtwith——识别网站所用技术\n",
    "\n",
    " 这是一个用来检查网络构建的技术类别的模块，将URL做为参数，下载该URL并进行分析，然后返回该网站所使用的技术。\n",
    " 如下面这个例子，可以看出网站使用了Python的 Web2py 框架，另外还使用了一些通用的JavaScript库。"
   ]
  },
  {
   "cell_type": "code",
   "execution_count": 2,
   "metadata": {},
   "outputs": [
    {
     "data": {
      "text/plain": [
       "{u'javascript-frameworks': [u'jQuery', u'Modernizr', u'jQuery UI'],\n",
       " u'programming-languages': [u'Python'],\n",
       " u'web-frameworks': [u'Web2py', u'Twitter Bootstrap'],\n",
       " u'web-servers': [u'Nginx']}"
      ]
     },
     "execution_count": 2,
     "metadata": {},
     "output_type": "execute_result"
    }
   ],
   "source": [
    "import builtwith\n",
    "builtwith.parse('http://example.webscraping.com')"
   ]
  }
 ],
 "metadata": {
  "kernelspec": {
   "display_name": "Python 2",
   "language": "python",
   "name": "python2"
  },
  "language_info": {
   "codemirror_mode": {
    "name": "ipython",
    "version": 2
   },
   "file_extension": ".py",
   "mimetype": "text/x-python",
   "name": "python",
   "nbconvert_exporter": "python",
   "pygments_lexer": "ipython2",
   "version": "2.7.13"
  }
 },
 "nbformat": 4,
 "nbformat_minor": 1
}
