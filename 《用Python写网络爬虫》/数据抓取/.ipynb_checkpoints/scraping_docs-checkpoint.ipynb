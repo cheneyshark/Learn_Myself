{
 "cells": [
  {
   "cell_type": "markdown",
   "metadata": {
    "collapsed": true
   },
   "source": [
    "## Lxml\n",
    "    Lxml是基于 libxml2 这一 XML 解析哭的Python 封装， 可以将不合法的HTML解析为统一格式。如下面这个例子：lxml正确的解析了属性两侧缺失的引号，并闭合标签。"
   ]
  },
  {
   "cell_type": "code",
   "execution_count": 3,
   "metadata": {},
   "outputs": [
    {
     "name": "stdout",
     "output_type": "stream",
     "text": [
      "<Element ul at 0x10edc6c00>\n"
     ]
    }
   ],
   "source": [
    "import lxml.html\n",
    "broken_html = '<ul class = country><li>Area<li>Population</ul>'\n",
    "tree = lxml.html.fromstring(broken_html)\n",
    "fixed_html = lxml.html.tostring(tree, pretty_print=True)\n",
    "print fixed_html"
   ]
  },
  {
   "cell_type": "markdown",
   "metadata": {},
   "source": [
    "### 先通过lxml解析网页，再通过CSS选择器提取对应元素，抽取特定的数据。方法如下："
   ]
  },
  {
   "cell_type": "code",
   "execution_count": 13,
   "metadata": {},
   "outputs": [
    {
     "name": "stdout",
     "output_type": "stream",
     "text": [
      "tree: <Element html at 0x10ec47628>\n",
      "td: <Element td at 0x10ec47940>\n",
      "199 square kilometres\n"
     ]
    }
   ],
   "source": [
    "import urllib2\n",
    "\n",
    "def download(url):\n",
    "    return urllib2.urlopen(url).read()\n",
    "\n",
    "html = download('http://example.webscraping.com/places/default/view/American-Samoa-5')\n",
    "# print html\n",
    "\n",
    "import lxml.html\n",
    "# 用 fromstring 解析下载到的html\n",
    "tree = lxml.html.fromstring(html)\n",
    "print 'tree:', tree\n",
    "\n",
    "# 用 cssselect 选择器找到ID 为 places_population__row 的表格行元素，然后选择class为 w2p_fw 的表格数据子标签。\n",
    "td = tree.cssselect('tr#places_area__row > td.w2p_fw')[0]\n",
    "print 'td:', td\n",
    "# 将其文本内容赋值给 area并打印\n",
    "area = td.text_content()\n",
    "print area\n"
   ]
  },
  {
   "cell_type": "markdown",
   "metadata": {},
   "source": [
    "#### 在Google浏览器中选中国家位置，右键，点击“检查”。  可看到页面HTML的层次结构。\n",
    "     如这个例子所示，当选择国家面积这一属性时，可以看到，这个值包含在class为“w2p_fw”的 <td> 元素中，而 <td> 元素又是ID为places_area__row 的 <tr> 元素的子元素。\n",
    "       <tr id=\"places_area__row\">\n",
    "           <td class=\"w2p_fl\"><label class=\"readonly\" for=\"places_area\" id=\"places_area__label\">Area: </label></td>\n",
    "           <td class=\"w2p_fw\">199 square kilometres</td>\n",
    "           <td class=\"w2p_fc\"></td>\n",
    "           </tr>"
   ]
  },
  {
   "cell_type": "markdown",
   "metadata": {},
   "source": [
    "## CSS 选择器\n",
    "    css选择器表示选择元素所使用的模型，下面是一些常用的选择器示例：\n",
    "        选择所有标签： *\n",
    "        选择<a>标签： a\n",
    "        选择所有class=“link”的元素： .link\n",
    "        选择class=\"link\"的<a>标签： a.link\n",
    "        选择id=\"home\"的<a>标签： a#home\n",
    "        选择父元素为<a>标签的所有<span>子标签： a > span\n",
    "        选择<a>标签内部的所有<span>标签： a span\n",
    "        选择 title 属性为\"home\"的所有 <a> 标签： a[title=home]"
   ]
  },
  {
   "cell_type": "markdown",
   "metadata": {},
   "source": [
    "## 抓取国家数据，并将得到的结果保存到CSV表格中。"
   ]
  },
  {
   "cell_type": "code",
   "execution_count": null,
   "metadata": {
    "collapsed": true
   },
   "outputs": [],
   "source": [
    "#coding:utf-8\n",
    "import urllib2\n",
    "import re\n",
    "import lxml.html\n",
    "\n",
    "def download(url, scrape_callback=None):\n",
    "    # url = 'http://example.webscraping.com/places/default/view/American-Samoa-5'\n",
    "    html = urllib2.urlopen(url).read()\n",
    "    print 'url:', url\n",
    "    # print 'html:', html\n",
    "\n",
    "    if scrape_callback:\n",
    "        scrape_callback(url, html)\n",
    "\n",
    "\n",
    "import csv\n",
    "\n",
    "# 构造一个 ScrapCallback类，来实现抓取行为。\n",
    "class ScrapCallback:\n",
    "    def __init__(self):\n",
    "        # 'w'是写  'r'是读  reader = csv.reader(open(\".csv\", 'r'))\n",
    "        self.writer =csv.writer(open('country_test.csv', 'w'))\n",
    "        self.fields = ('area','population','country')\n",
    "        self.writer.writerow(self.fields)\n",
    "\n",
    "    # 构造 __call__方法。 call是一个特殊的方法，在对象作为函数被调用时会调用该方法。\n",
    "    def __call__(self, url, html):\n",
    "        # re.sarch() 函数将对整个字符串进行搜索，并返回第一个匹配的字符串的match对象。\n",
    "        if re.search('/view/',url):\n",
    "            tree = lxml.html.fromstring(html)\n",
    "            row = []\n",
    "            for field in self.fields:\n",
    "                row.append(tree.cssselect('table > tr#places_{}__row > td.w2p_fw'.format(field))[0].text_content())\n",
    "\n",
    "            self.writer.writerow(row)\n",
    "\n",
    "\n",
    "\n",
    "if __name__ == '__main__':\n",
    "    download('http://example.webscraping.com/places/default/view/American-Samoa-5', scrape_callback=ScrapCallback())"
   ]
  }
 ],
 "metadata": {
  "kernelspec": {
   "display_name": "Python 2",
   "language": "python",
   "name": "python2"
  },
  "language_info": {
   "codemirror_mode": {
    "name": "ipython",
    "version": 2
   },
   "file_extension": ".py",
   "mimetype": "text/x-python",
   "name": "python",
   "nbconvert_exporter": "python",
   "pygments_lexer": "ipython2",
   "version": "2.7.13"
  }
 },
 "nbformat": 4,
 "nbformat_minor": 1
}
