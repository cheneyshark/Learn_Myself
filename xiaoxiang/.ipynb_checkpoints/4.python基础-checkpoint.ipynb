{
 "cells": [
  {
   "cell_type": "code",
   "execution_count": 2,
   "metadata": {
    "collapsed": true
   },
   "outputs": [],
   "source": [
    "# coding: utf-8\n",
    "import numpy as np\n"
   ]
  },
  {
   "cell_type": "markdown",
   "metadata": {},
   "source": [
    "# Numpy\n",
    "输出的数组中，有逗号的通常是list列表，没有逗号的通常是numpy数组"
   ]
  },
  {
   "cell_type": "code",
   "execution_count": 13,
   "metadata": {},
   "outputs": [
    {
     "name": "stdout",
     "output_type": "stream",
     "text": [
      "[1, 2, 3, 4, 5, 6]\n",
      "[1 2 3 4 5 6]\n",
      "(6,)\n"
     ]
    }
   ],
   "source": [
    "L = [1,2,3,4,5,6]\n",
    "print L\n",
    "a = np.array(L)\n",
    "print a\n",
    "print a.shape\n"
   ]
  },
  {
   "cell_type": "markdown",
   "metadata": {},
   "source": [
    "### 修改数组形状（-1表示自动计算长度）\n",
    "    函数：a.shape = x,y   或者  c = a.reshape((x,y))  共享内存"
   ]
  },
  {
   "cell_type": "code",
   "execution_count": 15,
   "metadata": {},
   "outputs": [
    {
     "name": "stdout",
     "output_type": "stream",
     "text": [
      "[[1 2]\n",
      " [3 4]\n",
      " [5 6]]\n",
      "[[1 2 3]\n",
      " [4 5 6]]\n"
     ]
    }
   ],
   "source": [
    "a.shape = (3,-1)\n",
    "print a\n",
    "c = a.reshape((2,-1))\n",
    "print c"
   ]
  },
  {
   "cell_type": "markdown",
   "metadata": {},
   "source": [
    "### 转换数据类型要用astype      复数类型：complex"
   ]
  },
  {
   "cell_type": "code",
   "execution_count": 16,
   "metadata": {},
   "outputs": [
    {
     "name": "stdout",
     "output_type": "stream",
     "text": [
      "[[ 1  2  3  4]\n",
      " [ 5  6  7  8]\n",
      " [ 9 10 11 12]]\n"
     ]
    }
   ],
   "source": [
    "d = np.array([[1,2,3,4],[5,6,7,8],[9,10,11,12]], dtype=np.float)\n",
    "f = d.astype(np.int)\n",
    "print f"
   ]
  },
  {
   "cell_type": "markdown",
   "metadata": {},
   "source": [
    "### 使用函数创建数组\n",
    "    arange：指定其实质，终指值和步长来创建数组  （不包括终止值，可以生成浮点类型）range是list类型\n",
    "    linespace：指定起始值，终止值和元素个数来创建数组，缺省包括终止值。  (不包含终止值：endpoint=False)\n",
    "    logspace：等比数列  起始值，终止值，元素数 (缺省情况包含终止值， base控制底数，默认为10)\n",
    "    \n",
    "    防止打印换行可采用： np.set_printoptions(linewidth=300)"
   ]
  },
  {
   "cell_type": "code",
   "execution_count": 25,
   "metadata": {},
   "outputs": [
    {
     "name": "stdout",
     "output_type": "stream",
     "text": [
      "[  1.    1.5   2.    2.5   3.    3.5   4.    4.5   5.    5.5   6.    6.5   7.    7.5   8.    8.5   9.    9.5  10.   10.5  11.   11.5  12.   12.5  13.   13.5  14.   14.5  15.   15.5  16.   16.5  17.   17.5  18.   18.5  19.   19.5]\n",
      "<type 'numpy.ndarray'> float64\n",
      "b= [  1.   2.   3.   4.   5.   6.   7.   8.   9.  10.]\n",
      "c= [  2.   4.   8.  16.]\n"
     ]
    }
   ],
   "source": [
    "np.set_printoptions(linewidth=300)\n",
    "a = np.arange(1,20,0.5)\n",
    "print a\n",
    "print type(a), a.dtype\n",
    "\n",
    "b = np.linspace(1,10,10)\n",
    "print 'b=', b\n",
    "\n",
    "c = np.logspace(1,4,4,base=2)\n",
    "print 'c=', c"
   ]
  },
  {
   "cell_type": "markdown",
   "metadata": {},
   "source": [
    "### 从字节序列创建数组 （ASCII码）\n",
    "    np.fromstring(s,dtype=np.int8)"
   ]
  },
  {
   "cell_type": "code",
   "execution_count": 27,
   "metadata": {},
   "outputs": [
    {
     "name": "stdout",
     "output_type": "stream",
     "text": [
      "[113 105 104 101 112 101 110 103]\n"
     ]
    }
   ],
   "source": [
    "s = 'qihepeng'\n",
    "g = np.fromstring(s,dtype=np.int8)\n",
    "print g"
   ]
  },
  {
   "cell_type": "markdown",
   "metadata": {},
   "source": [
    "### 数组的读取\n",
    "    切片：【3:6） 左闭右开 print a[3:6]  输出a[3]，[4]，[5]个元素\n",
    "    从0开始： print a[:5]\n",
    "    从3到最后：print a[3:]\n",
    "    从a[1]到a[9],步长为2: print a[1:9:2]   输出 1，3，5，7\n",
    "    翻转：print a[::-1]\n",
    "    "
   ]
  },
  {
   "cell_type": "code",
   "execution_count": 31,
   "metadata": {},
   "outputs": [
    {
     "name": "stdout",
     "output_type": "stream",
     "text": [
      "[ 2.5  3.   3.5]\n"
     ]
    }
   ],
   "source": [
    "print a[3:6]"
   ]
  },
  {
   "cell_type": "markdown",
   "metadata": {},
   "source": [
    "### "
   ]
  }
 ],
 "metadata": {
  "kernelspec": {
   "display_name": "Python 2",
   "language": "python",
   "name": "python2"
  },
  "language_info": {
   "codemirror_mode": {
    "name": "ipython",
    "version": 2
   },
   "file_extension": ".py",
   "mimetype": "text/x-python",
   "name": "python",
   "nbconvert_exporter": "python",
   "pygments_lexer": "ipython2",
   "version": "2.7.13"
  }
 },
 "nbformat": 4,
 "nbformat_minor": 1
}
