{
 "cells": [
  {
   "cell_type": "markdown",
   "metadata": {
    "collapsed": true
   },
   "source": [
    "# 计算素数\n",
    "    被除数从2到根号P遍历  因为公约数一定小于根号P\n",
    "    对数字的除余做为一个列表，如果不包含0  则该数就是一个素数\n",
    "    例如：找出从2到1000的素数"
   ]
  },
  {
   "cell_type": "code",
   "execution_count": 6,
   "metadata": {},
   "outputs": [
    {
     "name": "stdout",
     "output_type": "stream",
     "text": [
      "[2, 3, 5, 7, 11, 13, 17, 19, 23, 29, 31, 37, 41, 43, 47, 53, 59, 61, 67, 71, 73, 79, 83, 89, 97, 101, 103, 107, 109, 113, 127, 131, 137, 139, 149, 151, 157, 163, 167, 173, 179, 181, 191, 193, 197, 199, 211, 223, 227, 229, 233, 239, 241, 251, 257, 263, 269, 271, 277, 281, 283, 293, 307, 311, 313, 317, 331, 337, 347, 349, 353, 359, 367, 373, 379, 383, 389, 397, 401, 409, 419, 421, 431, 433, 439, 443, 449, 457, 461, 463, 467, 479, 487, 491, 499, 503, 509, 521, 523, 541, 547, 557, 563, 569, 571, 577, 587, 593, 599, 601, 607, 613, 617, 619, 631, 641, 643, 647, 653, 659, 661, 673, 677, 683, 691, 701, 709, 719, 727, 733, 739, 743, 751, 757, 761, 769, 773, 787, 797, 809, 811, 821, 823, 827, 829, 839, 853, 857, 859, 863, 877, 881, 883, 887, 907, 911, 919, 929, 937, 941, 947, 953, 967, 971, 977, 983, 991, 997]\n"
     ]
    }
   ],
   "source": [
    "import math\n",
    "a = 2 \n",
    "b = 1000\n",
    "p = [p for  p in range(a,b) if 0 not in [p % d for d in range (2, int(math.sqrt(p))+1)]]\n",
    "print p"
   ]
  },
  {
   "cell_type": "markdown",
   "metadata": {},
   "source": [
    "# Pandas  (http://pandas.pydata.org/pandas-docs/stable/10min.html)\n",
    "    读取excel数据： \n",
    "        data = pd.read_excel('sales.xlsx',sheetname = 'sheet1', header=0)   没有文件头 用header = None\n",
    "    写入文件：\n",
    "        data.to_excel('result.xls', sheet_name = 'Sheet1', index = False)\n",
    "    \n",
    "    输出前n行： print data.head(n)     缺省是前5行\n",
    "    输出后n行： print data.tail(n)     缺省是后5行\n",
    "    输出数据类型： print data.dtypes\n",
    "    数据的列的名字：data.columns\n",
    "    \n",
    "    \n",
    "    新增加一列为‘Jan’、'Feb'、'Mar'三列的和\n",
    "        data['total'] = data['Jan'] + data['Feb'] + data['Mar']\n",
    "    \n",
    "    求一列的和：data['Jan'].sum()\n",
    "                          min()\n",
    "                          max()\n",
    "                          mean()\n",
    "    把数值型的数据做一个计算：data.describe()\n",
    "    \n",
    "    添加一行求每列的和： \n",
    "        （1）计算和：s1 = data[['Jan','Feb','Mar','total']].sum()\n",
    "        （2）转换成DataFrame： s2 = pd.DataFrame(data=s1)\n",
    "        （3）s2做转置： s2.T\n",
    "        （4）s2对应到相应列： s2.T.reindex(columns = data.columns)\n",
    "      即：\n",
    "      s = pd.DataFrame(data = data[['Jan', 'Feb', 'Mar', 'total'].sum()]).T\n",
    "      s = s.reindex(columns = data.columns, fill_value = 0)\n",
    "      data = data.append(s , ignore_index = True)  加入表格最后一行\n",
    "      data = data.rename(index = {15 : 'Total'})\n",
    "    \n",
    " \n",
    "    "
   ]
  },
  {
   "cell_type": "markdown",
   "metadata": {},
   "source": [
    "## apply的使用\n",
    "    \n",
    "    data.apply(enum_row, axis=1)   axis:1--每一行     对每一行输出\n",
    "    \n",
    "    def enum_row(row):\n",
    "        print row  或者  print row('Jan')  输出每行的Jan列值\n",
    "        "
   ]
  },
  {
   "cell_type": "markdown",
   "metadata": {},
   "source": [
    "# 特征选择\n",
    "    \n",
    "    把字符串列的数据转换为数字格式：  data[u'类型'] = pd.Categorical(data[u'类型']).codes\n",
    "    \n",
    "  "
   ]
  },
  {
   "cell_type": "markdown",
   "metadata": {},
   "source": [
    "### PCA\n",
    "    from sklearn.decomposition import PCA\n",
    "    "
   ]
  }
 ],
 "metadata": {
  "kernelspec": {
   "display_name": "Python 2",
   "language": "python",
   "name": "python2"
  },
  "language_info": {
   "codemirror_mode": {
    "name": "ipython",
    "version": 2
   },
   "file_extension": ".py",
   "mimetype": "text/x-python",
   "name": "python",
   "nbconvert_exporter": "python",
   "pygments_lexer": "ipython2",
   "version": "2.7.13"
  }
 },
 "nbformat": 4,
 "nbformat_minor": 1
}
